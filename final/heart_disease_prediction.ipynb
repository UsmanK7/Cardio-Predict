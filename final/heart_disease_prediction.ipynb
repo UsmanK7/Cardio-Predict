{
 "cells": [
  {
   "cell_type": "markdown",
   "metadata": {},
   "source": [
    "<div style=\"border-radius: 30px 0 30px 0px; border: 2px solid #00ea98; padding: 20px; background-color: #0a141b; text-align: center; box-shadow: 0px 2px 4px rgba(0, 0, 0, 0.2);\">\n",
    "    <h1 style=\"color:rgb(233, 13, 17); text-shadow: 2px 2px 4px rgba(0, 0, 0, 0.5); font-weight: bold; margin-bottom: 10px; font-size: 36px;\">❤️ Heart Disease Prediction + EDA</h1>\n",
    "</div>\n"
   ]
  },
  {
   "cell_type": "markdown",
   "metadata": {},
   "source": [
    "# **Want to Connect** \n",
    "<h1 style=\"font-family: 'poppins'; font-weight: bold; color: white;\">👨‍💻Author: Muhammad Usman Khan</h1>\n",
    "\n",
    "<img target=\"_blank\" alt=\"Usman khan | Gmail\" width=\"120px\" height=\"40\" src=\"https://img.shields.io/badge/Gmail-D14836?style=for-the-badge&logo=gmail&logoColor=white\" />\n",
    "<img target=\"_blank\" alt=\"Usman khan | LinkedIn\" width=\"140px\" height=\"40\" src=\"https://img.shields.io/badge/LinkedIn-0077B5?style=for-the-badge&logo=linkedin&logoColor=white\" />\n",
    "<img target=\"_blank\" alt=\"Usman khan | LeetCode\" width=\"140px\" height=\"40\" src=\"https://img.shields.io/badge/LeetCode-000000?style=for-the-badge&logo=leetcode&logoColor=yellow\" />\n",
    "<img target=\"_blank\" alt=\"Usman khan | GitHub\" width=\"140px\" height=\"40\" src=\"https://img.shields.io/badge/GitHub-100000?style=for-the-badge&logo=github&logoColor=white\" />\n",
    "<img target=\"_blank\" alt=\"Usman khan | Kaggle\" width=\"140px\" height=\"40\" src=\"https://img.shields.io/badge/Kaggle-100000?style=for-the-badge&logo=kaggle&logoColor=white\" />\n"
   ]
  },
  {
   "cell_type": "markdown",
   "metadata": {},
   "source": []
  }
 ],
 "metadata": {
  "kernelspec": {
   "display_name": "ml_env",
   "language": "python",
   "name": "python3"
  },
  "language_info": {
   "codemirror_mode": {
    "name": "ipython",
    "version": 3
   },
   "file_extension": ".py",
   "mimetype": "text/x-python",
   "name": "python",
   "nbconvert_exporter": "python",
   "pygments_lexer": "ipython3",
   "version": "3.10.8"
  }
 },
 "nbformat": 4,
 "nbformat_minor": 2
}
